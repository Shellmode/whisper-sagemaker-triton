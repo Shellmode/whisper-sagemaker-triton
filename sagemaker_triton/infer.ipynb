{
 "cells": [
  {
   "cell_type": "code",
   "execution_count": null,
   "metadata": {},
   "outputs": [],
   "source": [
    "def prepare_data():\n",
    "    # waveform, sample_rate = load_audio(dp[\"audio_filepath\"])\n",
    "    # duration = int(len(waveform) / sample_rate)\n",
    "\n",
    "    # # padding to nearset 10 seconds\n",
    "    # samples = np.zeros(\n",
    "    #     (\n",
    "    #         1,\n",
    "    #         padding_duration * sample_rate * ((duration // padding_duration) + 1),\n",
    "    #     ),\n",
    "    #     dtype=np.float32,\n",
    "    # )\n",
    "\n",
    "    # samples[0, : len(waveform)] = waveform\n",
    "\n",
    "    # lengths = np.array([[len(waveform)]], dtype=np.int32)\n",
    "\n",
    "    # inputs = [\n",
    "    #     protocol_client.InferInput(\n",
    "    #         \"WAV\", samples.shape, np_to_triton_dtype(samples.dtype)\n",
    "    #     ),\n",
    "    #     protocol_client.InferInput(\"TEXT_PREFIX\", [1, 1], \"BYTES\"),\n",
    "    # ]\n",
    "    # inputs[0].set_data_from_numpy(samples)\n",
    "\n",
    "    # input_data_numpy = np.array([whisper_prompt], dtype=object)\n",
    "    # input_data_numpy = input_data_numpy.reshape((1, 1))\n",
    "    # inputs[1].set_data_from_numpy(input_data_numpy)\n",
    "\n",
    "    # outputs = [protocol_client.InferRequestedOutput(\"TRANSCRIPTS\")]\n",
    "    # sequence_id = 100000000 + i + task_id * 10"
   ]
  }
 ],
 "metadata": {
  "language_info": {
   "name": "python"
  }
 },
 "nbformat": 4,
 "nbformat_minor": 2
}
